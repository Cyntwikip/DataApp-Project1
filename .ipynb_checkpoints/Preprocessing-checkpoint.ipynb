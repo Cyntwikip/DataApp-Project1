{
 "cells": [
  {
   "cell_type": "code",
   "execution_count": 1,
   "metadata": {
    "ExecuteTime": {
     "end_time": "2018-10-02T11:13:06.081291Z",
     "start_time": "2018-10-02T11:12:22.486151Z"
    }
   },
   "outputs": [
    {
     "data": {
      "text/html": [
       "<div>\n",
       "<style scoped>\n",
       "    .dataframe tbody tr th:only-of-type {\n",
       "        vertical-align: middle;\n",
       "    }\n",
       "\n",
       "    .dataframe tbody tr th {\n",
       "        vertical-align: top;\n",
       "    }\n",
       "\n",
       "    .dataframe thead th {\n",
       "        text-align: right;\n",
       "    }\n",
       "</style>\n",
       "<table border=\"1\" class=\"dataframe\">\n",
       "  <thead>\n",
       "    <tr style=\"text-align: right;\">\n",
       "      <th></th>\n",
       "      <th>province</th>\n",
       "      <th>city_muni</th>\n",
       "      <th>year</th>\n",
       "      <th>ira</th>\n",
       "    </tr>\n",
       "  </thead>\n",
       "  <tbody>\n",
       "    <tr>\n",
       "      <th>0</th>\n",
       "      <td>Abra</td>\n",
       "      <td>Bangued</td>\n",
       "      <td>1992</td>\n",
       "      <td>0.000000</td>\n",
       "    </tr>\n",
       "    <tr>\n",
       "      <th>1</th>\n",
       "      <td>Abra</td>\n",
       "      <td>Bangued</td>\n",
       "      <td>1993</td>\n",
       "      <td>7.280949</td>\n",
       "    </tr>\n",
       "    <tr>\n",
       "      <th>2</th>\n",
       "      <td>Abra</td>\n",
       "      <td>Bangued</td>\n",
       "      <td>1994</td>\n",
       "      <td>10.311497</td>\n",
       "    </tr>\n",
       "    <tr>\n",
       "      <th>3</th>\n",
       "      <td>Abra</td>\n",
       "      <td>Bangued</td>\n",
       "      <td>1995</td>\n",
       "      <td>10.311497</td>\n",
       "    </tr>\n",
       "    <tr>\n",
       "      <th>4</th>\n",
       "      <td>Abra</td>\n",
       "      <td>Bangued</td>\n",
       "      <td>1996</td>\n",
       "      <td>12.435710</td>\n",
       "    </tr>\n",
       "  </tbody>\n",
       "</table>\n",
       "</div>"
      ],
      "text/plain": [
       "  province city_muni  year        ira\n",
       "0     Abra   Bangued  1992   0.000000\n",
       "1     Abra   Bangued  1993   7.280949\n",
       "2     Abra   Bangued  1994  10.311497\n",
       "3     Abra   Bangued  1995  10.311497\n",
       "4     Abra   Bangued  1996  12.435710"
      ]
     },
     "metadata": {},
     "output_type": "display_data"
    },
    {
     "data": {
      "text/html": [
       "<div>\n",
       "<style scoped>\n",
       "    .dataframe tbody tr th:only-of-type {\n",
       "        vertical-align: middle;\n",
       "    }\n",
       "\n",
       "    .dataframe tbody tr th {\n",
       "        vertical-align: top;\n",
       "    }\n",
       "\n",
       "    .dataframe thead th {\n",
       "        text-align: right;\n",
       "    }\n",
       "</style>\n",
       "<table border=\"1\" class=\"dataframe\">\n",
       "  <thead>\n",
       "    <tr style=\"text-align: right;\">\n",
       "      <th></th>\n",
       "      <th>province</th>\n",
       "      <th>city_muni</th>\n",
       "      <th>population</th>\n",
       "      <th>land_area</th>\n",
       "    </tr>\n",
       "  </thead>\n",
       "  <tbody>\n",
       "    <tr>\n",
       "      <th>0</th>\n",
       "      <td>Abra</td>\n",
       "      <td>Boliney</td>\n",
       "      <td>3573</td>\n",
       "      <td>182.628600</td>\n",
       "    </tr>\n",
       "    <tr>\n",
       "      <th>1</th>\n",
       "      <td>Abra</td>\n",
       "      <td>Bucay</td>\n",
       "      <td>17115</td>\n",
       "      <td>104.379392</td>\n",
       "    </tr>\n",
       "    <tr>\n",
       "      <th>2</th>\n",
       "      <td>Abra</td>\n",
       "      <td>Bucloc</td>\n",
       "      <td>2501</td>\n",
       "      <td>51.267308</td>\n",
       "    </tr>\n",
       "    <tr>\n",
       "      <th>3</th>\n",
       "      <td>Abra</td>\n",
       "      <td>Daguioman</td>\n",
       "      <td>2088</td>\n",
       "      <td>97.269073</td>\n",
       "    </tr>\n",
       "    <tr>\n",
       "      <th>4</th>\n",
       "      <td>Abra</td>\n",
       "      <td>Danglas</td>\n",
       "      <td>4192</td>\n",
       "      <td>175.560305</td>\n",
       "    </tr>\n",
       "  </tbody>\n",
       "</table>\n",
       "</div>"
      ],
      "text/plain": [
       "  province  city_muni  population   land_area\n",
       "0     Abra    Boliney        3573  182.628600\n",
       "1     Abra      Bucay       17115  104.379392\n",
       "2     Abra     Bucloc        2501   51.267308\n",
       "3     Abra  Daguioman        2088   97.269073\n",
       "4     Abra    Danglas        4192  175.560305"
      ]
     },
     "metadata": {},
     "output_type": "display_data"
    }
   ],
   "source": [
    "from IPython.display import display, IFrame, HTML\n",
    "import os\n",
    "import pandas as pd\n",
    "\n",
    "import dash \n",
    "import dash_core_components as dcc\n",
    "import dash_html_components as html\n",
    "import plotly.graph_objs as go\n",
    "\n",
    "from dash.dependencies import Input, Output, State, Event\n",
    "\n",
    "# turn off web logs\n",
    "import os\n",
    "os.environ['FLASK_ENV'] = 'development'\n",
    "\n",
    "import logging\n",
    "logger = logging.getLogger('werkzeug') # WSGI - web server gateway interface\n",
    "logger.setLevel(logging.ERROR)\n",
    "\n",
    "def show_app(app, port=9998, width=900, height=700):\n",
    "    host = 'localhost'\n",
    "    url = f'http://{host}:{port}'\n",
    "    \n",
    "    display(HTML(f\"<a href='{url}' target='_blank'>Open in a new tab</a>\"))\n",
    "    display(IFrame(url, width=width, height=height))\n",
    "    \n",
    "    app.css.config.serve_locally = True\n",
    "    app.scripts.config.serve_locally = True\n",
    "    \n",
    "    return app.run_server(debug=False, host=host, port=port)\n",
    "\n",
    "df = pd.read_csv('ira.csv')\n",
    "display(df.head())\n",
    "\n",
    "df2 = pd.read_csv('pop_area.csv')\n",
    "display(df2.head())\n",
    "\n",
    "# app = dash.Dash()\n",
    "app = dash.Dash(static_folder='assets/')"
   ]
  },
  {
   "cell_type": "code",
   "execution_count": 19,
   "metadata": {
    "ExecuteTime": {
     "end_time": "2018-10-02T03:33:24.862722Z",
     "start_time": "2018-10-02T02:03:29.643141Z"
    }
   },
   "outputs": [
    {
     "data": {
      "text/html": [
       "<a href='http://localhost:9998' target='_blank'>Open in a new tab</a>"
      ],
      "text/plain": [
       "<IPython.core.display.HTML object>"
      ]
     },
     "metadata": {},
     "output_type": "display_data"
    },
    {
     "data": {
      "text/html": [
       "\n",
       "        <iframe\n",
       "            width=\"900\"\n",
       "            height=\"700\"\n",
       "            src=\"http://localhost:9998\"\n",
       "            frameborder=\"0\"\n",
       "            allowfullscreen\n",
       "        ></iframe>\n",
       "        "
      ],
      "text/plain": [
       "<IPython.lib.display.IFrame at 0x2adcbae77f0>"
      ]
     },
     "metadata": {},
     "output_type": "display_data"
    },
    {
     "name": "stdout",
     "output_type": "stream",
     "text": [
      " * Serving Flask app \"__main__\" (lazy loading)\n",
      " * Environment: development\n",
      " * Debug mode: off\n",
      "2016\n"
     ]
    }
   ],
   "source": [
    "app.callback_map = {} # resets the callbacks\n",
    "\n",
    "app.layout = html.Div([\n",
    "    dcc.Slider(\n",
    "        id='year-slider',\n",
    "        min=1980,\n",
    "        max=2016,\n",
    "        step=1,\n",
    "        value=2016,\n",
    "    ),\n",
    "    html.Div([\n",
    "        dcc.Graph(id=\"world-map\")\n",
    "    ], className=\"col-md-8\"),\n",
    "])\n",
    "\n",
    "@app.callback(Output('world-map', 'figure'), \n",
    "              [Input('year-slider', 'value')],\n",
    "#               [State('graph-output', 'figure')]\n",
    "             )\n",
    "def update_map(year):\n",
    "    print(year)\n",
    "    # types: scattermapbox, mapbox\n",
    "    return {\n",
    "        \"data\": [ \n",
    "                    { 'type': 'scattermapbox',\n",
    "                     \n",
    "                    } for i in range(5)\n",
    "#                 {\n",
    "#                     \"type\": \"scattermapbox\",\n",
    "#                     \"lat\": listpluck(\"latitude\", class_sightings),\n",
    "#                     \"lon\": listpluck(\"longitude\", class_sightings),\n",
    "#                     \"text\": listpluck(\"title\", class_sightings),\n",
    "#                     \"mode\": \"markers\",\n",
    "#                     \"name\": classification,\n",
    "#                     \"marker\": {\n",
    "#                         \"size\": 3,\n",
    "#                         \"opacity\": 1.0\n",
    "#                     }\n",
    "#                 }\n",
    "#                 for classification, class_sightings in classifications.items()\n",
    "            ],\n",
    "        \"layout\": {\n",
    "            \"autosize\": True,\n",
    "            \"hovermode\": \"closest\",\n",
    "            \"mapbox\": {\n",
    "                \"accesstoken\": os.environ.get(\"MAPBOX_KEY\"),\n",
    "#                 \"accesstoken\": 'pk.eyJ1IjoiY3ludHdpa2lwIiwiYSI6ImNqbXF6cG1rajA3NHczcXBkZWdpcDl6bXIifQ.up1PqgoqN69t1eukMcUMkg',\n",
    "                \"bearing\": 0,\n",
    "#                 \"center\": {\n",
    "#                     \"lat\": 40,\n",
    "#                     \"lon\": -98.5\n",
    "#                 },\n",
    "                \"pitch\": 0,\n",
    "                \"zoom\": 0,\n",
    "                \"style\": \"outdoors\" # outdoors, dark\n",
    "            }\n",
    "        }\n",
    "    }\n",
    "\n",
    "show_app(app)"
   ]
  },
  {
   "cell_type": "code",
   "execution_count": 2,
   "metadata": {
    "ExecuteTime": {
     "end_time": "2018-10-02T11:13:06.112524Z",
     "start_time": "2018-10-02T11:13:06.081291Z"
    }
   },
   "outputs": [
    {
     "data": {
      "text/html": [
       "<div>\n",
       "<style scoped>\n",
       "    .dataframe tbody tr th:only-of-type {\n",
       "        vertical-align: middle;\n",
       "    }\n",
       "\n",
       "    .dataframe tbody tr th {\n",
       "        vertical-align: top;\n",
       "    }\n",
       "\n",
       "    .dataframe thead th {\n",
       "        text-align: right;\n",
       "    }\n",
       "</style>\n",
       "<table border=\"1\" class=\"dataframe\">\n",
       "  <thead>\n",
       "    <tr style=\"text-align: right;\">\n",
       "      <th></th>\n",
       "      <th>COUNTRY</th>\n",
       "      <th>GDP</th>\n",
       "      <th>CODE</th>\n",
       "    </tr>\n",
       "  </thead>\n",
       "  <tbody>\n",
       "    <tr>\n",
       "      <th>0</th>\n",
       "      <td>Philippines</td>\n",
       "      <td>2000.0</td>\n",
       "      <td>PHL</td>\n",
       "    </tr>\n",
       "    <tr>\n",
       "      <th>1</th>\n",
       "      <td>Singapore</td>\n",
       "      <td>30000.0</td>\n",
       "      <td>SGP</td>\n",
       "    </tr>\n",
       "    <tr>\n",
       "      <th>2</th>\n",
       "      <td>United States</td>\n",
       "      <td>30000.0</td>\n",
       "      <td>USA</td>\n",
       "    </tr>\n",
       "  </tbody>\n",
       "</table>\n",
       "</div>"
      ],
      "text/plain": [
       "         COUNTRY      GDP CODE\n",
       "0    Philippines   2000.0  PHL\n",
       "1      Singapore  30000.0  SGP\n",
       "2  United States  30000.0  USA"
      ]
     },
     "execution_count": 2,
     "metadata": {},
     "output_type": "execute_result"
    }
   ],
   "source": [
    "countries = ['Philippines', 'Singapore', 'United States']\n",
    "gdp = [2e3, 3e4, 3e4]\n",
    "code = ['PHL', 'SGP', 'USA']\n",
    "\n",
    "df = pd.DataFrame({'COUNTRY': countries, 'GDP': gdp, 'CODE': code})\n",
    "df.head()"
   ]
  },
  {
   "cell_type": "code",
   "execution_count": 3,
   "metadata": {
    "ExecuteTime": {
     "end_time": "2018-10-02T11:39:14.949157Z",
     "start_time": "2018-10-02T11:13:06.112524Z"
    },
    "scrolled": true
   },
   "outputs": [
    {
     "data": {
      "text/html": [
       "<a href='http://localhost:9998' target='_blank'>Open in a new tab</a>"
      ],
      "text/plain": [
       "<IPython.core.display.HTML object>"
      ]
     },
     "metadata": {},
     "output_type": "display_data"
    },
    {
     "data": {
      "text/html": [
       "\n",
       "        <iframe\n",
       "            width=\"900\"\n",
       "            height=\"700\"\n",
       "            src=\"http://localhost:9998\"\n",
       "            frameborder=\"0\"\n",
       "            allowfullscreen\n",
       "        ></iframe>\n",
       "        "
      ],
      "text/plain": [
       "<IPython.lib.display.IFrame at 0x1dcf5ceea20>"
      ]
     },
     "metadata": {},
     "output_type": "display_data"
    },
    {
     "name": "stdout",
     "output_type": "stream",
     "text": [
      " * Serving Flask app \"__main__\" (lazy loading)\n",
      " * Environment: development\n",
      " * Debug mode: off\n",
      "2016\n"
     ]
    }
   ],
   "source": [
    "app.callback_map = {} # resets the callbacks\n",
    "\n",
    "app.layout = html.Div([\n",
    "    dcc.Slider(\n",
    "        id='year-slider',\n",
    "        min=1980,\n",
    "        max=2016,\n",
    "        step=1,\n",
    "        value=2016,\n",
    "    ),\n",
    "    html.Div([\n",
    "        dcc.Graph(id=\"world-map\")\n",
    "    ], className=\"col-md-8\"),\n",
    "])\n",
    "\n",
    "@app.callback(Output('world-map', 'figure'), \n",
    "              [Input('year-slider', 'value')],\n",
    "#               [State('graph-output', 'figure')]\n",
    "             )\n",
    "def update_map(year):\n",
    "    print(year)\n",
    "    data = [ dict(\n",
    "        type = 'choropleth',\n",
    "        locations = df['CODE'],\n",
    "        z = df['GDP'],\n",
    "        text = df['COUNTRY'],\n",
    "        colorscale = [[0,\"rgb(5, 10, 172)\"],[0.35,\"rgb(40, 60, 190)\"],[0.5,\"rgb(70, 100, 245)\"],\\\n",
    "            [0.6,\"rgb(90, 120, 245)\"],[0.7,\"rgb(106, 137, 247)\"],[1,\"rgb(220, 220, 220)\"]],\n",
    "        autocolorscale = False,\n",
    "        reversescale = True,\n",
    "        marker = dict(\n",
    "            line = dict (\n",
    "                color = 'rgb(180,180,180)',\n",
    "                width = 0.5\n",
    "            ) ),\n",
    "        colorbar = dict(\n",
    "            autotick = False,\n",
    "            tickprefix = '$',\n",
    "            title = 'GDP per capita<br>US$'),\n",
    "      ) ]\n",
    "\n",
    "    layout = dict(\n",
    "        title = 'GDP per capita<br>Source:\\\n",
    "                <a href=\"https://www.cia.gov/library/publications/the-world-factbook/fields/2195.html\">\\\n",
    "                Worldbank</a>',\n",
    "        geo = dict(\n",
    "            showframe = True,\n",
    "            showcoastlines = False,\n",
    "            projection = dict(\n",
    "                type = 'Mercator'\n",
    "            )\n",
    "        ),\n",
    "#         style = 'outdoors'\n",
    "    )\n",
    "\n",
    "    fig = dict( data=data, layout=layout )\n",
    "    return fig\n",
    "\n",
    "show_app(app)"
   ]
  },
  {
   "cell_type": "code",
   "execution_count": null,
   "metadata": {},
   "outputs": [],
   "source": []
  }
 ],
 "metadata": {
  "kernelspec": {
   "display_name": "Python [conda env:data_app]",
   "language": "python",
   "name": "conda-env-data_app-py"
  },
  "language_info": {
   "codemirror_mode": {
    "name": "ipython",
    "version": 3
   },
   "file_extension": ".py",
   "mimetype": "text/x-python",
   "name": "python",
   "nbconvert_exporter": "python",
   "pygments_lexer": "ipython3",
   "version": "3.6.6"
  },
  "toc": {
   "base_numbering": 1,
   "nav_menu": {},
   "number_sections": true,
   "sideBar": true,
   "skip_h1_title": false,
   "title_cell": "Table of Contents",
   "title_sidebar": "Contents",
   "toc_cell": false,
   "toc_position": {},
   "toc_section_display": true,
   "toc_window_display": false
  }
 },
 "nbformat": 4,
 "nbformat_minor": 2
}
